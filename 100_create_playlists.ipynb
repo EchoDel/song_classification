{
 "cells": [
  {
   "cell_type": "code",
   "execution_count": 9,
   "metadata": {},
   "outputs": [],
   "source": [
    "from os.path import join\n",
    "import glob\n",
    "import pandas as pd\n",
    "from pathlib import Path"
   ]
  },
  {
   "cell_type": "markdown",
   "metadata": {},
   "source": [
    "# Output to playlist"
   ]
  },
  {
   "cell_type": "code",
   "execution_count": 17,
   "metadata": {},
   "outputs": [],
   "source": [
    "prediction_to_output = \"kmean_prediction\""
   ]
  },
  {
   "cell_type": "code",
   "execution_count": 7,
   "metadata": {},
   "outputs": [],
   "source": [
    "names = pd.read_csv(\"modelling_results.csv\")"
   ]
  },
  {
   "cell_type": "code",
   "execution_count": 10,
   "metadata": {},
   "outputs": [],
   "source": [
    "storage_base = Path(\"/storage/emulated/0/Music\")"
   ]
  },
  {
   "cell_type": "code",
   "execution_count": 12,
   "metadata": {},
   "outputs": [],
   "source": [
    "playlist_path = Path(\"playlists\")"
   ]
  },
  {
   "cell_type": "code",
   "execution_count": 37,
   "metadata": {},
   "outputs": [
    {
     "name": "stdout",
     "output_type": "stream",
     "text": [
      "mkdir: cannot create directory ‘playlists’: File exists\n"
     ]
    }
   ],
   "source": [
    "%mkdir playlists"
   ]
  },
  {
   "cell_type": "code",
   "execution_count": 18,
   "metadata": {},
   "outputs": [],
   "source": [
    "for prediction in names[prediction_to_output].unique():\n",
    "    sink_path = playlist_path/(\"phone_\" + prediction_to_output + str(prediction))\n",
    "\n",
    "    _m3u = open(sink_path.with_suffix(\".m3u\"), \"w+\")\n",
    "    \n",
    "    \n",
    "    for song in names[names[prediction_to_output] == prediction][\"source\"]:\n",
    "        source_path = storage_base\n",
    "        for path_part in list((source_path/song).parts[4:]):\n",
    "            source_path = source_path / path_part\n",
    "        _m3u.write(str(source_path) + \"\\n\")\n",
    "        \n",
    "        \n",
    "    _m3u.close()"
   ]
  },
  {
   "cell_type": "code",
   "execution_count": 19,
   "metadata": {},
   "outputs": [],
   "source": [
    "for prediction in names[prediction_to_output].unique():\n",
    "    sink_path = playlist_path/(\"desktop\" + prediction_to_output + str(prediction))\n",
    "\n",
    "    _m3u = open(sink_path.with_suffix(\".m3u\"), \"w+\")\n",
    "    \n",
    "    for song in names[names[prediction_to_output] == prediction][\"source\"]:\n",
    "        _m3u.write(str(song) + \"\\n\")\n",
    "        \n",
    "    _m3u.close()"
   ]
  }
 ],
 "metadata": {
  "kernelspec": {
   "display_name": "Python 3",
   "language": "python",
   "name": "python3"
  },
  "language_info": {
   "codemirror_mode": {
    "name": "ipython",
    "version": 3
   },
   "file_extension": ".py",
   "mimetype": "text/x-python",
   "name": "python",
   "nbconvert_exporter": "python",
   "pygments_lexer": "ipython3",
   "version": "3.7.4"
  }
 },
 "nbformat": 4,
 "nbformat_minor": 4
}
