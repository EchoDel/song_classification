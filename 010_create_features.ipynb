{
 "cells": [
  {
   "cell_type": "markdown",
   "metadata": {},
   "source": [
    "# Song similarity analyser"
   ]
  },
  {
   "cell_type": "code",
   "execution_count": 1,
   "metadata": {},
   "outputs": [],
   "source": [
    "%matplotlib inline\n",
    "\n",
    "import matplotlib.pyplot as plt\n",
    "import librosa.display\n",
    "import sklearn"
   ]
  },
  {
   "cell_type": "markdown",
   "metadata": {},
   "source": [
    "## Settings"
   ]
  },
  {
   "cell_type": "code",
   "execution_count": 2,
   "metadata": {},
   "outputs": [],
   "source": [
    "import shutil\n",
    "import os\n",
    "from pathlib import Path\n"
   ]
  },
  {
   "cell_type": "code",
   "execution_count": 3,
   "metadata": {},
   "outputs": [],
   "source": [
    "source_path = Path(os.environ[\"HOME\"] + '/Music')\n",
    "second_to_split_into = 100000"
   ]
  },
  {
   "cell_type": "markdown",
   "metadata": {},
   "source": [
    "## Functions"
   ]
  },
  {
   "cell_type": "code",
   "execution_count": 4,
   "metadata": {},
   "outputs": [],
   "source": [
    "def split_audio_track(sample, sample_rate, second_to_split_into):\n",
    "    samples_per_split = np.round(sample_rate * second_to_split_into)\n",
    "    array_to_split = np.arange(samples_per_split, sample.shape[0], samples_per_split)\n",
    "    return np.split(sample, array_to_split)"
   ]
  },
  {
   "cell_type": "code",
   "execution_count": 5,
   "metadata": {},
   "outputs": [],
   "source": [
    "def dont_split_audio_track(sample, sample_rate, samples_per_split):\n",
    "    array_to_split = np.arange(samples_per_split, sample.shape[0], samples_per_split)\n",
    "    return np.split(sample, array_to_split)"
   ]
  },
  {
   "cell_type": "code",
   "execution_count": 6,
   "metadata": {},
   "outputs": [],
   "source": [
    "import time, sys\n",
    "from IPython.display import clear_output\n",
    "\n",
    "def update_progress(progress):\n",
    "    bar_length = 20\n",
    "    if isinstance(progress, int):\n",
    "        progress = float(progress)\n",
    "    if not isinstance(progress, float):\n",
    "        progress = 0\n",
    "    if progress < 0:\n",
    "        progress = 0\n",
    "    if progress >= 1:\n",
    "        progress = 1\n",
    "\n",
    "    block = int(round(bar_length * progress))\n",
    "\n",
    "    clear_output(wait = True)\n",
    "    text = \"Progress: [{0}] {1:.1f}%\".format( \"#\" * block + \"-\" * (bar_length - block), progress * 100)\n",
    "    print(text)"
   ]
  },
  {
   "cell_type": "markdown",
   "metadata": {},
   "source": [
    "# Import Data and Create Features "
   ]
  },
  {
   "cell_type": "code",
   "execution_count": 7,
   "metadata": {},
   "outputs": [],
   "source": [
    "import numpy as np\n",
    "import pandas as pd\n",
    "import librosa\n",
    "import pickle"
   ]
  },
  {
   "cell_type": "code",
   "execution_count": 8,
   "metadata": {},
   "outputs": [],
   "source": [
    "files = [f for f in source_path.glob( \"**/*.*\")]"
   ]
  },
  {
   "cell_type": "code",
   "execution_count": 9,
   "metadata": {},
   "outputs": [],
   "source": [
    "error_formats = []"
   ]
  },
  {
   "cell_type": "code",
   "execution_count": 15,
   "metadata": {},
   "outputs": [
    {
     "name": "stdout",
     "output_type": "stream",
     "text": [
      "Progress: [####################] 99.9%\n"
     ]
    }
   ],
   "source": [
    "df = pd.DataFrame(columns=['index', 'source', 'zero_crossing', \\\n",
    "                           'spectral_centroid_mean', 'spectral_centroid_median', 'spectral_centroid_max', 'spectral_centroid_min', \\\n",
    "                           'mfccs_mean', 'mfccs_median', 'mfccs_max','mfccs_min'])\n",
    "\n",
    "for file_index in range(len(files)):\n",
    "    update_progress((file_index+1)/len(files))\n",
    "    \n",
    "    file = files[file_index]\n",
    "    \n",
    "    try:\n",
    "        sample, sample_rate = librosa.load(file, sr = None)\n",
    "    except Exception as e:\n",
    "        print(\"Reading of sample %s failed\" % file)\n",
    "        error_formats.append(file.suffix)\n",
    "        print(e)\n",
    "        continue\n",
    "        \n",
    "    split_audio = dont_split_audio_track(sample, sample_rate, len(sample))\n",
    "    \n",
    "    data = {'index':np.arange(0, 1),\n",
    "           \"source\": file}\n",
    "    # Create DataFrame \n",
    "    sample_df = pd.DataFrame(data)\n",
    "    sample_df.insert(2, \"data\", split_audio, True)\n",
    "    \n",
    "    sample_df[\"zero_crossing\"] = sample_df.apply(lambda x: np.sum(librosa.zero_crossings(x['data']) / len(x['data'])), axis = 1)\n",
    "\n",
    "    sample_df[\"spectral_centroid\"] = sample_df.apply(lambda x: librosa.feature.spectral_centroid(x['data'], sr=sample_rate)[0], axis = 1)\n",
    "    sample_df[\"spectral_centroid_mean\"] = sample_df.apply(lambda x: np.mean(x['spectral_centroid']), axis = 1)\n",
    "    sample_df[\"spectral_centroid_median\"] = sample_df.apply(lambda x: np.median(x['spectral_centroid']), axis = 1)\n",
    "    sample_df[\"spectral_centroid_max\"] = sample_df.apply(lambda x: np.max(x['spectral_centroid']), axis = 1)\n",
    "    sample_df[\"spectral_centroid_min\"] = sample_df.apply(lambda x: np.min(x['spectral_centroid']), axis = 1)\n",
    "\n",
    "    sample_df = sample_df.drop(labels= \"spectral_centroid\", axis = 1)\n",
    "\n",
    "    sample_df[\"mfccs\"] = sample_df.apply(lambda x: librosa.feature.mfcc(x['data'], sr=sample_rate), axis = 1)\n",
    "    sample_df[\"mfccs_mean\"] = sample_df.apply(lambda x: np.mean(x['mfccs']), axis = 1)\n",
    "    sample_df[\"mfccs_median\"] = sample_df.apply(lambda x: np.median(x['mfccs']), axis = 1)\n",
    "    sample_df[\"mfccs_max\"] = sample_df.apply(lambda x: np.max(x['mfccs']), axis = 1)\n",
    "    sample_df[\"mfccs_min\"] = sample_df.apply(lambda x: np.min(x['mfccs']), axis = 1)\n",
    "    sample_df = sample_df.drop(labels=[\"mfccs\", \"data\"], axis = 1)\n",
    "\n",
    "    df = df.append(sample_df, ignore_index=True, sort=False)"
   ]
  },
  {
   "cell_type": "code",
   "execution_count": 16,
   "metadata": {},
   "outputs": [
    {
     "data": {
      "text/plain": [
       "['.jpg', '.png']"
      ]
     },
     "execution_count": 16,
     "metadata": {},
     "output_type": "execute_result"
    }
   ],
   "source": [
    "list(set(error_formats))"
   ]
  },
  {
   "cell_type": "code",
   "execution_count": 17,
   "metadata": {},
   "outputs": [],
   "source": [
    "df = df.reset_index(drop = True)"
   ]
  },
  {
   "cell_type": "code",
   "execution_count": 68,
   "metadata": {},
   "outputs": [
    {
     "data": {
      "text/html": [
       "<div>\n",
       "<style scoped>\n",
       "    .dataframe tbody tr th:only-of-type {\n",
       "        vertical-align: middle;\n",
       "    }\n",
       "\n",
       "    .dataframe tbody tr th {\n",
       "        vertical-align: top;\n",
       "    }\n",
       "\n",
       "    .dataframe thead th {\n",
       "        text-align: right;\n",
       "    }\n",
       "</style>\n",
       "<table border=\"1\" class=\"dataframe\">\n",
       "  <thead>\n",
       "    <tr style=\"text-align: right;\">\n",
       "      <th></th>\n",
       "      <th>index</th>\n",
       "      <th>source</th>\n",
       "      <th>zero_crossing</th>\n",
       "      <th>spectral_centroid_mean</th>\n",
       "      <th>spectral_centroid_median</th>\n",
       "      <th>spectral_centroid_max</th>\n",
       "      <th>spectral_centroid_min</th>\n",
       "      <th>mfccs_mean</th>\n",
       "      <th>mfccs_median</th>\n",
       "      <th>mfccs_max</th>\n",
       "      <th>mfccs_min</th>\n",
       "    </tr>\n",
       "  </thead>\n",
       "  <tbody>\n",
       "    <tr>\n",
       "      <td>0</td>\n",
       "      <td>0</td>\n",
       "      <td>/home/echo/Music/The Killers/The Killers/02 Mr...</td>\n",
       "      <td>0.080173</td>\n",
       "      <td>3478.486893</td>\n",
       "      <td>3699.486893</td>\n",
       "      <td>9221.642040</td>\n",
       "      <td>0.000000</td>\n",
       "      <td>0.034836</td>\n",
       "      <td>0.000000</td>\n",
       "      <td>217.820206</td>\n",
       "      <td>-618.331726</td>\n",
       "    </tr>\n",
       "    <tr>\n",
       "      <td>1</td>\n",
       "      <td>0</td>\n",
       "      <td>/home/echo/Music/The Killers/Hot Fuss/02 Mr. B...</td>\n",
       "      <td>0.085226</td>\n",
       "      <td>4237.165629</td>\n",
       "      <td>4413.760841</td>\n",
       "      <td>9394.739657</td>\n",
       "      <td>634.324126</td>\n",
       "      <td>7.089046</td>\n",
       "      <td>2.213427</td>\n",
       "      <td>222.148407</td>\n",
       "      <td>-482.561829</td>\n",
       "    </tr>\n",
       "    <tr>\n",
       "      <td>2</td>\n",
       "      <td>0</td>\n",
       "      <td>/home/echo/Music/The Killers/Hot Fuss/04 Someb...</td>\n",
       "      <td>0.065370</td>\n",
       "      <td>3023.802147</td>\n",
       "      <td>2890.480863</td>\n",
       "      <td>8679.240765</td>\n",
       "      <td>0.000000</td>\n",
       "      <td>7.832765</td>\n",
       "      <td>2.546913</td>\n",
       "      <td>210.143951</td>\n",
       "      <td>-475.126678</td>\n",
       "    </tr>\n",
       "    <tr>\n",
       "      <td>3</td>\n",
       "      <td>0</td>\n",
       "      <td>/home/echo/Music/The Killers/Day &amp; Age/08 Neon...</td>\n",
       "      <td>0.062050</td>\n",
       "      <td>2791.438689</td>\n",
       "      <td>2731.611321</td>\n",
       "      <td>10860.375440</td>\n",
       "      <td>0.000000</td>\n",
       "      <td>2.705099</td>\n",
       "      <td>0.656901</td>\n",
       "      <td>205.322357</td>\n",
       "      <td>-480.103882</td>\n",
       "    </tr>\n",
       "    <tr>\n",
       "      <td>4</td>\n",
       "      <td>0</td>\n",
       "      <td>/home/echo/Music/The Killers/Day &amp; Age/09 The ...</td>\n",
       "      <td>0.063964</td>\n",
       "      <td>2898.526246</td>\n",
       "      <td>2749.655822</td>\n",
       "      <td>9439.706424</td>\n",
       "      <td>0.000000</td>\n",
       "      <td>3.738940</td>\n",
       "      <td>0.488139</td>\n",
       "      <td>202.427124</td>\n",
       "      <td>-500.842682</td>\n",
       "    </tr>\n",
       "    <tr>\n",
       "      <td>...</td>\n",
       "      <td>...</td>\n",
       "      <td>...</td>\n",
       "      <td>...</td>\n",
       "      <td>...</td>\n",
       "      <td>...</td>\n",
       "      <td>...</td>\n",
       "      <td>...</td>\n",
       "      <td>...</td>\n",
       "      <td>...</td>\n",
       "      <td>...</td>\n",
       "      <td>...</td>\n",
       "    </tr>\n",
       "    <tr>\n",
       "      <td>1671</td>\n",
       "      <td>0</td>\n",
       "      <td>/home/echo/Music/Alter Bridge/Blackbird/06 Bef...</td>\n",
       "      <td>0.065014</td>\n",
       "      <td>2912.522619</td>\n",
       "      <td>2891.357103</td>\n",
       "      <td>9073.641645</td>\n",
       "      <td>407.068312</td>\n",
       "      <td>7.308403</td>\n",
       "      <td>1.928936</td>\n",
       "      <td>224.799011</td>\n",
       "      <td>-464.524597</td>\n",
       "    </tr>\n",
       "    <tr>\n",
       "      <td>1672</td>\n",
       "      <td>0</td>\n",
       "      <td>/home/echo/Music/Alter Bridge/Blackbird/10 Wat...</td>\n",
       "      <td>0.046191</td>\n",
       "      <td>2196.631047</td>\n",
       "      <td>2110.213404</td>\n",
       "      <td>10870.742082</td>\n",
       "      <td>291.552918</td>\n",
       "      <td>0.827663</td>\n",
       "      <td>0.041015</td>\n",
       "      <td>230.467102</td>\n",
       "      <td>-531.482788</td>\n",
       "    </tr>\n",
       "    <tr>\n",
       "      <td>1673</td>\n",
       "      <td>0</td>\n",
       "      <td>/home/echo/Music/Alter Bridge/One Day Remains/...</td>\n",
       "      <td>0.047607</td>\n",
       "      <td>2201.405678</td>\n",
       "      <td>2132.858269</td>\n",
       "      <td>10142.083556</td>\n",
       "      <td>0.000000</td>\n",
       "      <td>2.255421</td>\n",
       "      <td>-0.646723</td>\n",
       "      <td>230.088089</td>\n",
       "      <td>-489.989685</td>\n",
       "    </tr>\n",
       "    <tr>\n",
       "      <td>1674</td>\n",
       "      <td>0</td>\n",
       "      <td>/home/echo/Music/Alter Bridge/One Day Remains/...</td>\n",
       "      <td>0.047392</td>\n",
       "      <td>2309.839081</td>\n",
       "      <td>2379.670617</td>\n",
       "      <td>10002.543869</td>\n",
       "      <td>0.000000</td>\n",
       "      <td>5.294450</td>\n",
       "      <td>1.895164</td>\n",
       "      <td>228.150818</td>\n",
       "      <td>-492.467834</td>\n",
       "    </tr>\n",
       "    <tr>\n",
       "      <td>1675</td>\n",
       "      <td>0</td>\n",
       "      <td>/home/echo/Music/Alter Bridge/One Day Remains/...</td>\n",
       "      <td>0.072991</td>\n",
       "      <td>3228.066268</td>\n",
       "      <td>3200.090103</td>\n",
       "      <td>8626.044326</td>\n",
       "      <td>868.754419</td>\n",
       "      <td>8.135859</td>\n",
       "      <td>2.850937</td>\n",
       "      <td>204.595673</td>\n",
       "      <td>-483.077667</td>\n",
       "    </tr>\n",
       "  </tbody>\n",
       "</table>\n",
       "<p>1676 rows × 11 columns</p>\n",
       "</div>"
      ],
      "text/plain": [
       "     index                                             source  zero_crossing  \\\n",
       "0        0  /home/echo/Music/The Killers/The Killers/02 Mr...       0.080173   \n",
       "1        0  /home/echo/Music/The Killers/Hot Fuss/02 Mr. B...       0.085226   \n",
       "2        0  /home/echo/Music/The Killers/Hot Fuss/04 Someb...       0.065370   \n",
       "3        0  /home/echo/Music/The Killers/Day & Age/08 Neon...       0.062050   \n",
       "4        0  /home/echo/Music/The Killers/Day & Age/09 The ...       0.063964   \n",
       "...    ...                                                ...            ...   \n",
       "1671     0  /home/echo/Music/Alter Bridge/Blackbird/06 Bef...       0.065014   \n",
       "1672     0  /home/echo/Music/Alter Bridge/Blackbird/10 Wat...       0.046191   \n",
       "1673     0  /home/echo/Music/Alter Bridge/One Day Remains/...       0.047607   \n",
       "1674     0  /home/echo/Music/Alter Bridge/One Day Remains/...       0.047392   \n",
       "1675     0  /home/echo/Music/Alter Bridge/One Day Remains/...       0.072991   \n",
       "\n",
       "      spectral_centroid_mean  spectral_centroid_median  spectral_centroid_max  \\\n",
       "0                3478.486893               3699.486893            9221.642040   \n",
       "1                4237.165629               4413.760841            9394.739657   \n",
       "2                3023.802147               2890.480863            8679.240765   \n",
       "3                2791.438689               2731.611321           10860.375440   \n",
       "4                2898.526246               2749.655822            9439.706424   \n",
       "...                      ...                       ...                    ...   \n",
       "1671             2912.522619               2891.357103            9073.641645   \n",
       "1672             2196.631047               2110.213404           10870.742082   \n",
       "1673             2201.405678               2132.858269           10142.083556   \n",
       "1674             2309.839081               2379.670617           10002.543869   \n",
       "1675             3228.066268               3200.090103            8626.044326   \n",
       "\n",
       "      spectral_centroid_min  mfccs_mean  mfccs_median   mfccs_max   mfccs_min  \n",
       "0                  0.000000    0.034836      0.000000  217.820206 -618.331726  \n",
       "1                634.324126    7.089046      2.213427  222.148407 -482.561829  \n",
       "2                  0.000000    7.832765      2.546913  210.143951 -475.126678  \n",
       "3                  0.000000    2.705099      0.656901  205.322357 -480.103882  \n",
       "4                  0.000000    3.738940      0.488139  202.427124 -500.842682  \n",
       "...                     ...         ...           ...         ...         ...  \n",
       "1671             407.068312    7.308403      1.928936  224.799011 -464.524597  \n",
       "1672             291.552918    0.827663      0.041015  230.467102 -531.482788  \n",
       "1673               0.000000    2.255421     -0.646723  230.088089 -489.989685  \n",
       "1674               0.000000    5.294450      1.895164  228.150818 -492.467834  \n",
       "1675             868.754419    8.135859      2.850937  204.595673 -483.077667  \n",
       "\n",
       "[1676 rows x 11 columns]"
      ]
     },
     "execution_count": 68,
     "metadata": {},
     "output_type": "execute_result"
    }
   ],
   "source": [
    "df"
   ]
  },
  {
   "cell_type": "code",
   "execution_count": 69,
   "metadata": {},
   "outputs": [],
   "source": [
    "pickle.dump(df, open(\"music_backup.p\", \"wb\"))"
   ]
  }
 ],
 "metadata": {
  "kernelspec": {
   "display_name": "Python 3",
   "language": "python",
   "name": "python3"
  },
  "language_info": {
   "codemirror_mode": {
    "name": "ipython",
    "version": 3
   },
   "file_extension": ".py",
   "mimetype": "text/x-python",
   "name": "python",
   "nbconvert_exporter": "python",
   "pygments_lexer": "ipython3",
   "version": "3.7.4"
  }
 },
 "nbformat": 4,
 "nbformat_minor": 4
}
